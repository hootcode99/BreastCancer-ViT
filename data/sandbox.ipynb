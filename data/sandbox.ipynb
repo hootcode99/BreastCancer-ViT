{
 "cells": [
  {
   "cell_type": "code",
   "execution_count": null,
   "id": "initial_id",
   "metadata": {
    "collapsed": true,
    "is_executing": true
   },
   "outputs": [],
   "source": [
    "import pandas as pd\n",
    "df = pd.read_csv(\"corrected_labels.csv\")"
   ]
  },
  {
   "cell_type": "code",
   "execution_count": null,
   "outputs": [],
   "source": [
    "df.head(5)"
   ],
   "metadata": {
    "collapsed": false,
    "is_executing": true
   },
   "id": "63d6fb017caa52cd"
  },
  {
   "cell_type": "code",
   "execution_count": null,
   "outputs": [],
   "source": [
    "img_name = \"00000001_000.png\"\n",
    "\n",
    "img_entry = df.loc[df[\"Image Index\"] == img_name]\n",
    "img_entry"
   ],
   "metadata": {
    "collapsed": false,
    "is_executing": true
   },
   "id": "42257c9bf53a71cd"
  },
  {
   "cell_type": "code",
   "execution_count": null,
   "outputs": [],
   "source": [
    "img_entry.columns"
   ],
   "metadata": {
    "collapsed": false,
    "is_executing": true
   },
   "id": "6667f808e1e363d5"
  },
  {
   "cell_type": "code",
   "execution_count": null,
   "outputs": [],
   "source": [
    "values = img_entry.iloc[:, 2:16]\n",
    "values"
   ],
   "metadata": {
    "collapsed": false,
    "is_executing": true
   },
   "id": "8511dc2e3745b721"
  },
  {
   "cell_type": "code",
   "execution_count": null,
   "outputs": [],
   "source": [
    "values_list = values.values.tolist()[0]\n",
    "values_list"
   ],
   "metadata": {
    "collapsed": false,
    "is_executing": true
   },
   "id": "7d529219e7627d93"
  },
  {
   "cell_type": "code",
   "execution_count": null,
   "outputs": [],
   "source": [
    "df[\"Image Index\"]"
   ],
   "metadata": {
    "collapsed": false,
    "is_executing": true
   },
   "id": "34cc79254101b5f5"
  },
  {
   "cell_type": "code",
   "execution_count": null,
   "outputs": [],
   "source": [],
   "metadata": {
    "collapsed": false,
    "is_executing": true
   },
   "id": "eb63cc10a4163791"
  }
 ],
 "metadata": {
  "kernelspec": {
   "display_name": "Python 3",
   "language": "python",
   "name": "python3"
  },
  "language_info": {
   "codemirror_mode": {
    "name": "ipython",
    "version": 2
   },
   "file_extension": ".py",
   "mimetype": "text/x-python",
   "name": "python",
   "nbconvert_exporter": "python",
   "pygments_lexer": "ipython2",
   "version": "2.7.6"
  }
 },
 "nbformat": 4,
 "nbformat_minor": 5
}
