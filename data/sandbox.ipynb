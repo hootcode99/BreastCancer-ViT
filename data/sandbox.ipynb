{
 "cells": [
  {
   "cell_type": "code",
   "execution_count": 11,
   "id": "initial_id",
   "metadata": {
    "collapsed": true,
    "ExecuteTime": {
     "end_time": "2024-02-07T23:41:13.961610100Z",
     "start_time": "2024-02-07T23:41:13.869477700Z"
    }
   },
   "outputs": [],
   "source": [
    "import pandas as pd\n",
    "df = pd.read_csv(\"corrected_labels.csv\")"
   ]
  },
  {
   "cell_type": "code",
   "execution_count": 12,
   "outputs": [
    {
     "data": {
      "text/plain": "        Image Index          Finding Labels  Atelectasis  Cardiomegaly  \\\n0  00000001_000.png            Cardiomegaly            0             1   \n1  00000001_001.png  Cardiomegaly|Emphysema            0             1   \n2  00000001_002.png   Cardiomegaly|Effusion            0             1   \n3  00000002_000.png              No Finding            0             0   \n4  00000003_000.png                  Hernia            0             0   \n\n   Effusion  Infiltration  Mass  Nodule  Pneumonia  Pneumothorax  \\\n0         0             0     0       0          0             0   \n1         0             0     0       0          0             0   \n2         1             0     0       0          0             0   \n3         0             0     0       0          0             0   \n4         0             0     0       0          0             0   \n\n   Consolidation  Edema  Emphysema  Fibrosis  Pleural_Thickening  Hernia  \n0              0      0          0         0                   0       0  \n1              0      0          1         0                   0       0  \n2              0      0          0         0                   0       0  \n3              0      0          0         0                   0       0  \n4              0      0          0         0                   0       1  ",
      "text/html": "<div>\n<style scoped>\n    .dataframe tbody tr th:only-of-type {\n        vertical-align: middle;\n    }\n\n    .dataframe tbody tr th {\n        vertical-align: top;\n    }\n\n    .dataframe thead th {\n        text-align: right;\n    }\n</style>\n<table border=\"1\" class=\"dataframe\">\n  <thead>\n    <tr style=\"text-align: right;\">\n      <th></th>\n      <th>Image Index</th>\n      <th>Finding Labels</th>\n      <th>Atelectasis</th>\n      <th>Cardiomegaly</th>\n      <th>Effusion</th>\n      <th>Infiltration</th>\n      <th>Mass</th>\n      <th>Nodule</th>\n      <th>Pneumonia</th>\n      <th>Pneumothorax</th>\n      <th>Consolidation</th>\n      <th>Edema</th>\n      <th>Emphysema</th>\n      <th>Fibrosis</th>\n      <th>Pleural_Thickening</th>\n      <th>Hernia</th>\n    </tr>\n  </thead>\n  <tbody>\n    <tr>\n      <th>0</th>\n      <td>00000001_000.png</td>\n      <td>Cardiomegaly</td>\n      <td>0</td>\n      <td>1</td>\n      <td>0</td>\n      <td>0</td>\n      <td>0</td>\n      <td>0</td>\n      <td>0</td>\n      <td>0</td>\n      <td>0</td>\n      <td>0</td>\n      <td>0</td>\n      <td>0</td>\n      <td>0</td>\n      <td>0</td>\n    </tr>\n    <tr>\n      <th>1</th>\n      <td>00000001_001.png</td>\n      <td>Cardiomegaly|Emphysema</td>\n      <td>0</td>\n      <td>1</td>\n      <td>0</td>\n      <td>0</td>\n      <td>0</td>\n      <td>0</td>\n      <td>0</td>\n      <td>0</td>\n      <td>0</td>\n      <td>0</td>\n      <td>1</td>\n      <td>0</td>\n      <td>0</td>\n      <td>0</td>\n    </tr>\n    <tr>\n      <th>2</th>\n      <td>00000001_002.png</td>\n      <td>Cardiomegaly|Effusion</td>\n      <td>0</td>\n      <td>1</td>\n      <td>1</td>\n      <td>0</td>\n      <td>0</td>\n      <td>0</td>\n      <td>0</td>\n      <td>0</td>\n      <td>0</td>\n      <td>0</td>\n      <td>0</td>\n      <td>0</td>\n      <td>0</td>\n      <td>0</td>\n    </tr>\n    <tr>\n      <th>3</th>\n      <td>00000002_000.png</td>\n      <td>No Finding</td>\n      <td>0</td>\n      <td>0</td>\n      <td>0</td>\n      <td>0</td>\n      <td>0</td>\n      <td>0</td>\n      <td>0</td>\n      <td>0</td>\n      <td>0</td>\n      <td>0</td>\n      <td>0</td>\n      <td>0</td>\n      <td>0</td>\n      <td>0</td>\n    </tr>\n    <tr>\n      <th>4</th>\n      <td>00000003_000.png</td>\n      <td>Hernia</td>\n      <td>0</td>\n      <td>0</td>\n      <td>0</td>\n      <td>0</td>\n      <td>0</td>\n      <td>0</td>\n      <td>0</td>\n      <td>0</td>\n      <td>0</td>\n      <td>0</td>\n      <td>0</td>\n      <td>0</td>\n      <td>0</td>\n      <td>1</td>\n    </tr>\n  </tbody>\n</table>\n</div>"
     },
     "execution_count": 12,
     "metadata": {},
     "output_type": "execute_result"
    }
   ],
   "source": [
    "df.head(5)"
   ],
   "metadata": {
    "collapsed": false,
    "ExecuteTime": {
     "end_time": "2024-02-07T23:41:13.972259900Z",
     "start_time": "2024-02-07T23:41:13.962110200Z"
    }
   },
   "id": "63d6fb017caa52cd"
  },
  {
   "cell_type": "code",
   "execution_count": 13,
   "outputs": [
    {
     "data": {
      "text/plain": "        Image Index Finding Labels  Atelectasis  Cardiomegaly  Effusion  \\\n0  00000001_000.png   Cardiomegaly            0             1         0   \n\n   Infiltration  Mass  Nodule  Pneumonia  Pneumothorax  Consolidation  Edema  \\\n0             0     0       0          0             0              0      0   \n\n   Emphysema  Fibrosis  Pleural_Thickening  Hernia  \n0          0         0                   0       0  ",
      "text/html": "<div>\n<style scoped>\n    .dataframe tbody tr th:only-of-type {\n        vertical-align: middle;\n    }\n\n    .dataframe tbody tr th {\n        vertical-align: top;\n    }\n\n    .dataframe thead th {\n        text-align: right;\n    }\n</style>\n<table border=\"1\" class=\"dataframe\">\n  <thead>\n    <tr style=\"text-align: right;\">\n      <th></th>\n      <th>Image Index</th>\n      <th>Finding Labels</th>\n      <th>Atelectasis</th>\n      <th>Cardiomegaly</th>\n      <th>Effusion</th>\n      <th>Infiltration</th>\n      <th>Mass</th>\n      <th>Nodule</th>\n      <th>Pneumonia</th>\n      <th>Pneumothorax</th>\n      <th>Consolidation</th>\n      <th>Edema</th>\n      <th>Emphysema</th>\n      <th>Fibrosis</th>\n      <th>Pleural_Thickening</th>\n      <th>Hernia</th>\n    </tr>\n  </thead>\n  <tbody>\n    <tr>\n      <th>0</th>\n      <td>00000001_000.png</td>\n      <td>Cardiomegaly</td>\n      <td>0</td>\n      <td>1</td>\n      <td>0</td>\n      <td>0</td>\n      <td>0</td>\n      <td>0</td>\n      <td>0</td>\n      <td>0</td>\n      <td>0</td>\n      <td>0</td>\n      <td>0</td>\n      <td>0</td>\n      <td>0</td>\n      <td>0</td>\n    </tr>\n  </tbody>\n</table>\n</div>"
     },
     "execution_count": 13,
     "metadata": {},
     "output_type": "execute_result"
    }
   ],
   "source": [
    "img_name = \"00000001_000.png\"\n",
    "\n",
    "img_entry = df.loc[df[\"Image Index\"] == img_name]\n",
    "img_entry"
   ],
   "metadata": {
    "collapsed": false,
    "ExecuteTime": {
     "end_time": "2024-02-07T23:41:13.980601700Z",
     "start_time": "2024-02-07T23:41:13.969258600Z"
    }
   },
   "id": "42257c9bf53a71cd"
  },
  {
   "cell_type": "code",
   "execution_count": 14,
   "outputs": [
    {
     "data": {
      "text/plain": "Index(['Image Index', 'Finding Labels', 'Atelectasis', 'Cardiomegaly',\n       'Effusion', 'Infiltration', 'Mass', 'Nodule', 'Pneumonia',\n       'Pneumothorax', 'Consolidation', 'Edema', 'Emphysema', 'Fibrosis',\n       'Pleural_Thickening', 'Hernia'],\n      dtype='object')"
     },
     "execution_count": 14,
     "metadata": {},
     "output_type": "execute_result"
    }
   ],
   "source": [
    "img_entry.columns"
   ],
   "metadata": {
    "collapsed": false,
    "ExecuteTime": {
     "end_time": "2024-02-07T23:41:31.513989500Z",
     "start_time": "2024-02-07T23:41:31.507685200Z"
    }
   },
   "id": "6667f808e1e363d5"
  },
  {
   "cell_type": "code",
   "execution_count": 23,
   "outputs": [
    {
     "data": {
      "text/plain": "   Atelectasis  Cardiomegaly  Effusion  Infiltration  Mass  Nodule  Pneumonia  \\\n0            0             1         0             0     0       0          0   \n\n   Pneumothorax  Consolidation  Edema  Emphysema  Fibrosis  \\\n0             0              0      0          0         0   \n\n   Pleural_Thickening  Hernia  \n0                   0       0  ",
      "text/html": "<div>\n<style scoped>\n    .dataframe tbody tr th:only-of-type {\n        vertical-align: middle;\n    }\n\n    .dataframe tbody tr th {\n        vertical-align: top;\n    }\n\n    .dataframe thead th {\n        text-align: right;\n    }\n</style>\n<table border=\"1\" class=\"dataframe\">\n  <thead>\n    <tr style=\"text-align: right;\">\n      <th></th>\n      <th>Atelectasis</th>\n      <th>Cardiomegaly</th>\n      <th>Effusion</th>\n      <th>Infiltration</th>\n      <th>Mass</th>\n      <th>Nodule</th>\n      <th>Pneumonia</th>\n      <th>Pneumothorax</th>\n      <th>Consolidation</th>\n      <th>Edema</th>\n      <th>Emphysema</th>\n      <th>Fibrosis</th>\n      <th>Pleural_Thickening</th>\n      <th>Hernia</th>\n    </tr>\n  </thead>\n  <tbody>\n    <tr>\n      <th>0</th>\n      <td>0</td>\n      <td>1</td>\n      <td>0</td>\n      <td>0</td>\n      <td>0</td>\n      <td>0</td>\n      <td>0</td>\n      <td>0</td>\n      <td>0</td>\n      <td>0</td>\n      <td>0</td>\n      <td>0</td>\n      <td>0</td>\n      <td>0</td>\n    </tr>\n  </tbody>\n</table>\n</div>"
     },
     "execution_count": 23,
     "metadata": {},
     "output_type": "execute_result"
    }
   ],
   "source": [
    "values = img_entry.iloc[:, 2:16]\n",
    "values"
   ],
   "metadata": {
    "collapsed": false
   },
   "id": "8511dc2e3745b721"
  },
  {
   "cell_type": "code",
   "execution_count": 27,
   "outputs": [
    {
     "data": {
      "text/plain": "[0, 1, 0, 0, 0, 0, 0, 0, 0, 0, 0, 0, 0, 0]"
     },
     "execution_count": 27,
     "metadata": {},
     "output_type": "execute_result"
    }
   ],
   "source": [
    "values_list = values.values.tolist()[0]\n",
    "values_list"
   ],
   "metadata": {
    "collapsed": false,
    "ExecuteTime": {
     "end_time": "2024-02-07T23:49:39.659019400Z",
     "start_time": "2024-02-07T23:49:39.626501Z"
    }
   },
   "id": "7d529219e7627d93"
  }
 ],
 "metadata": {
  "kernelspec": {
   "display_name": "Python 3",
   "language": "python",
   "name": "python3"
  },
  "language_info": {
   "codemirror_mode": {
    "name": "ipython",
    "version": 2
   },
   "file_extension": ".py",
   "mimetype": "text/x-python",
   "name": "python",
   "nbconvert_exporter": "python",
   "pygments_lexer": "ipython2",
   "version": "2.7.6"
  }
 },
 "nbformat": 4,
 "nbformat_minor": 5
}
