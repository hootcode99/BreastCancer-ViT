{
 "cells": [
  {
   "cell_type": "code",
   "execution_count": null,
   "id": "initial_id",
   "metadata": {
    "collapsed": true
   },
   "outputs": [],
   "source": [
    "import pandas as pd"
   ]
  },
  {
   "cell_type": "code",
   "execution_count": null,
   "outputs": [],
   "source": [
    "label_df = pd.read_csv(\"Data_Entry_2017.csv\")\n",
    "print(label_df.columns)"
   ],
   "metadata": {
    "collapsed": false
   },
   "id": "3d06acfdf62171cc"
  },
  {
   "cell_type": "markdown",
   "source": [
    "Remove Extraneous Columns"
   ],
   "metadata": {
    "collapsed": false
   },
   "id": "d343fb6e2d19bbcc"
  },
  {
   "cell_type": "code",
   "execution_count": null,
   "outputs": [],
   "source": [
    "label_df.drop([\n",
    "    'Follow-up #',\n",
    "    'Patient ID',\n",
    "    'Patient Age',\n",
    "    'Patient Gender',\n",
    "    'View Position',\n",
    "    'OriginalImage[Width',\n",
    "    'Height]',\n",
    "    'OriginalImagePixelSpacing[x',\n",
    "    'y]',\n",
    "    'Unnamed: 11'\n",
    "    ],\n",
    "    inplace=True,\n",
    "    axis=1\n",
    ")"
   ],
   "metadata": {
    "collapsed": false
   },
   "id": "b9c29b99a72d37db"
  },
  {
   "cell_type": "markdown",
   "source": [
    "Save processed data as a csv"
   ],
   "metadata": {
    "collapsed": false
   },
   "id": "f0d294c2fd366532"
  },
  {
   "cell_type": "code",
   "execution_count": null,
   "outputs": [],
   "source": [
    "label_df.to_csv(\"cleaned_labels.csv\")"
   ],
   "metadata": {
    "collapsed": false
   },
   "id": "d4dc026bbe7cb314"
  }
 ],
 "metadata": {
  "kernelspec": {
   "display_name": "Python 3",
   "language": "python",
   "name": "python3"
  },
  "language_info": {
   "codemirror_mode": {
    "name": "ipython",
    "version": 2
   },
   "file_extension": ".py",
   "mimetype": "text/x-python",
   "name": "python",
   "nbconvert_exporter": "python",
   "pygments_lexer": "ipython2",
   "version": "2.7.6"
  }
 },
 "nbformat": 4,
 "nbformat_minor": 5
}
