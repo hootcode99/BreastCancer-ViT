{
 "cells": [
  {
   "cell_type": "markdown",
   "source": [
    "# Create Proper Labels for Datapoints\n",
    "### The data is presented with pipe-concatenated string-based disease labels for each image (along with some extraneous information). The goal is to take the text labels from the format \"Disease|Disease|Disease\" into a more usable ground truth columns formatted for One-Hot encoding."
   ],
   "metadata": {
    "collapsed": false
   },
   "id": "846004eb613e44d0"
  },
  {
   "cell_type": "code",
   "execution_count": 166,
   "id": "initial_id",
   "metadata": {
    "collapsed": true,
    "ExecuteTime": {
     "end_time": "2024-02-07T18:13:45.594065600Z",
     "start_time": "2024-02-07T18:13:45.575050100Z"
    }
   },
   "outputs": [],
   "source": [
    "import pandas as pd"
   ]
  },
  {
   "cell_type": "markdown",
   "source": [
    "## Read in the CSV file into a dataframe"
   ],
   "metadata": {
    "collapsed": false
   },
   "id": "bd0d6719da204e02"
  },
  {
   "cell_type": "code",
   "execution_count": 167,
   "outputs": [],
   "source": [
    "df = pd.read_csv(\"Data_Entry_2017.csv\")"
   ],
   "metadata": {
    "collapsed": false,
    "ExecuteTime": {
     "end_time": "2024-02-07T18:13:45.687087200Z",
     "start_time": "2024-02-07T18:13:45.577562Z"
    }
   },
   "id": "79fb7dc1c98b940b"
  },
  {
   "cell_type": "code",
   "execution_count": 168,
   "outputs": [
    {
     "data": {
      "text/plain": "        Image Index          Finding Labels  Follow-up #  Patient ID  \\\n0  00000001_000.png            Cardiomegaly            0           1   \n1  00000001_001.png  Cardiomegaly|Emphysema            1           1   \n2  00000001_002.png   Cardiomegaly|Effusion            2           1   \n3  00000002_000.png              No Finding            0           2   \n4  00000003_000.png                  Hernia            0           3   \n\n   Patient Age Patient Gender View Position  OriginalImage[Width  Height]  \\\n0           58              M            PA                 2682     2749   \n1           58              M            PA                 2894     2729   \n2           58              M            PA                 2500     2048   \n3           81              M            PA                 2500     2048   \n4           81              F            PA                 2582     2991   \n\n   OriginalImagePixelSpacing[x     y]  Unnamed: 11  \n0                        0.143  0.143          NaN  \n1                        0.143  0.143          NaN  \n2                        0.168  0.168          NaN  \n3                        0.171  0.171          NaN  \n4                        0.143  0.143          NaN  ",
      "text/html": "<div>\n<style scoped>\n    .dataframe tbody tr th:only-of-type {\n        vertical-align: middle;\n    }\n\n    .dataframe tbody tr th {\n        vertical-align: top;\n    }\n\n    .dataframe thead th {\n        text-align: right;\n    }\n</style>\n<table border=\"1\" class=\"dataframe\">\n  <thead>\n    <tr style=\"text-align: right;\">\n      <th></th>\n      <th>Image Index</th>\n      <th>Finding Labels</th>\n      <th>Follow-up #</th>\n      <th>Patient ID</th>\n      <th>Patient Age</th>\n      <th>Patient Gender</th>\n      <th>View Position</th>\n      <th>OriginalImage[Width</th>\n      <th>Height]</th>\n      <th>OriginalImagePixelSpacing[x</th>\n      <th>y]</th>\n      <th>Unnamed: 11</th>\n    </tr>\n  </thead>\n  <tbody>\n    <tr>\n      <th>0</th>\n      <td>00000001_000.png</td>\n      <td>Cardiomegaly</td>\n      <td>0</td>\n      <td>1</td>\n      <td>58</td>\n      <td>M</td>\n      <td>PA</td>\n      <td>2682</td>\n      <td>2749</td>\n      <td>0.143</td>\n      <td>0.143</td>\n      <td>NaN</td>\n    </tr>\n    <tr>\n      <th>1</th>\n      <td>00000001_001.png</td>\n      <td>Cardiomegaly|Emphysema</td>\n      <td>1</td>\n      <td>1</td>\n      <td>58</td>\n      <td>M</td>\n      <td>PA</td>\n      <td>2894</td>\n      <td>2729</td>\n      <td>0.143</td>\n      <td>0.143</td>\n      <td>NaN</td>\n    </tr>\n    <tr>\n      <th>2</th>\n      <td>00000001_002.png</td>\n      <td>Cardiomegaly|Effusion</td>\n      <td>2</td>\n      <td>1</td>\n      <td>58</td>\n      <td>M</td>\n      <td>PA</td>\n      <td>2500</td>\n      <td>2048</td>\n      <td>0.168</td>\n      <td>0.168</td>\n      <td>NaN</td>\n    </tr>\n    <tr>\n      <th>3</th>\n      <td>00000002_000.png</td>\n      <td>No Finding</td>\n      <td>0</td>\n      <td>2</td>\n      <td>81</td>\n      <td>M</td>\n      <td>PA</td>\n      <td>2500</td>\n      <td>2048</td>\n      <td>0.171</td>\n      <td>0.171</td>\n      <td>NaN</td>\n    </tr>\n    <tr>\n      <th>4</th>\n      <td>00000003_000.png</td>\n      <td>Hernia</td>\n      <td>0</td>\n      <td>3</td>\n      <td>81</td>\n      <td>F</td>\n      <td>PA</td>\n      <td>2582</td>\n      <td>2991</td>\n      <td>0.143</td>\n      <td>0.143</td>\n      <td>NaN</td>\n    </tr>\n  </tbody>\n</table>\n</div>"
     },
     "execution_count": 168,
     "metadata": {},
     "output_type": "execute_result"
    }
   ],
   "source": [
    "df.head(5)"
   ],
   "metadata": {
    "collapsed": false,
    "ExecuteTime": {
     "end_time": "2024-02-07T18:13:45.699409100Z",
     "start_time": "2024-02-07T18:13:45.685583600Z"
    }
   },
   "id": "3bc605f265f57971"
  },
  {
   "cell_type": "markdown",
   "source": [
    "## Remove data columns that won't be used for training"
   ],
   "metadata": {
    "collapsed": false
   },
   "id": "d343fb6e2d19bbcc"
  },
  {
   "cell_type": "code",
   "execution_count": 169,
   "outputs": [
    {
     "name": "stdout",
     "output_type": "stream",
     "text": [
      "Image Index\n",
      "Finding Labels\n",
      "Follow-up #\n",
      "Patient ID\n",
      "Patient Age\n",
      "Patient Gender\n",
      "View Position\n",
      "OriginalImage[Width\n",
      "Height]\n",
      "OriginalImagePixelSpacing[x\n",
      "y]\n",
      "Unnamed: 11\n"
     ]
    }
   ],
   "source": [
    "for col in df.columns: \n",
    "    print(col) "
   ],
   "metadata": {
    "collapsed": false,
    "ExecuteTime": {
     "end_time": "2024-02-07T18:13:45.700409500Z",
     "start_time": "2024-02-07T18:13:45.693392800Z"
    }
   },
   "id": "8286235ceae48b23"
  },
  {
   "cell_type": "code",
   "execution_count": 170,
   "outputs": [],
   "source": [
    "df.drop([\n",
    "    'Follow-up #',\n",
    "    'Patient ID',\n",
    "    'Patient Age',\n",
    "    'Patient Gender',\n",
    "    'View Position',\n",
    "    'OriginalImage[Width',\n",
    "    'Height]',\n",
    "    'OriginalImagePixelSpacing[x',\n",
    "    'y]',\n",
    "    'Unnamed: 11'\n",
    "    ],\n",
    "    inplace=True,\n",
    "    axis=1\n",
    ")"
   ],
   "metadata": {
    "collapsed": false,
    "ExecuteTime": {
     "end_time": "2024-02-07T18:13:45.708916400Z",
     "start_time": "2024-02-07T18:13:45.699909800Z"
    }
   },
   "id": "b9c29b99a72d37db"
  },
  {
   "cell_type": "code",
   "execution_count": 171,
   "outputs": [
    {
     "data": {
      "text/plain": "        Image Index          Finding Labels\n0  00000001_000.png            Cardiomegaly\n1  00000001_001.png  Cardiomegaly|Emphysema\n2  00000001_002.png   Cardiomegaly|Effusion\n3  00000002_000.png              No Finding\n4  00000003_000.png                  Hernia",
      "text/html": "<div>\n<style scoped>\n    .dataframe tbody tr th:only-of-type {\n        vertical-align: middle;\n    }\n\n    .dataframe tbody tr th {\n        vertical-align: top;\n    }\n\n    .dataframe thead th {\n        text-align: right;\n    }\n</style>\n<table border=\"1\" class=\"dataframe\">\n  <thead>\n    <tr style=\"text-align: right;\">\n      <th></th>\n      <th>Image Index</th>\n      <th>Finding Labels</th>\n    </tr>\n  </thead>\n  <tbody>\n    <tr>\n      <th>0</th>\n      <td>00000001_000.png</td>\n      <td>Cardiomegaly</td>\n    </tr>\n    <tr>\n      <th>1</th>\n      <td>00000001_001.png</td>\n      <td>Cardiomegaly|Emphysema</td>\n    </tr>\n    <tr>\n      <th>2</th>\n      <td>00000001_002.png</td>\n      <td>Cardiomegaly|Effusion</td>\n    </tr>\n    <tr>\n      <th>3</th>\n      <td>00000002_000.png</td>\n      <td>No Finding</td>\n    </tr>\n    <tr>\n      <th>4</th>\n      <td>00000003_000.png</td>\n      <td>Hernia</td>\n    </tr>\n  </tbody>\n</table>\n</div>"
     },
     "execution_count": 171,
     "metadata": {},
     "output_type": "execute_result"
    }
   ],
   "source": [
    "df.head(5)"
   ],
   "metadata": {
    "collapsed": false,
    "ExecuteTime": {
     "end_time": "2024-02-07T18:13:45.717359800Z",
     "start_time": "2024-02-07T18:13:45.707916600Z"
    }
   },
   "id": "c4464ff4e892acf0"
  },
  {
   "cell_type": "markdown",
   "source": [
    "## Create new columns for each disease & assign a default value of 0"
   ],
   "metadata": {
    "collapsed": false
   },
   "id": "1726801daa1a59e6"
  },
  {
   "cell_type": "code",
   "execution_count": 172,
   "outputs": [],
   "source": [
    "df = df.assign(\n",
    "    Atelectasis=0,\n",
    "    Cardiomegaly=0,\n",
    "    Effusion=0,\n",
    "    Infiltration=0,\n",
    "    Mass=0,\n",
    "    Nodule=0,\n",
    "    Pneumonia=0,\n",
    "    Pneumothorax=0,\n",
    "    Consolidation=0, \n",
    "    Edema=0,\n",
    "    Emphysema=0, \n",
    "    Fibrosis=0,\n",
    "    Pleural_Thickening=0, \n",
    "    Hernia=0\n",
    ")"
   ],
   "metadata": {
    "collapsed": false,
    "ExecuteTime": {
     "end_time": "2024-02-07T18:13:45.764437Z",
     "start_time": "2024-02-07T18:13:45.714354Z"
    }
   },
   "id": "e08c95d2c6ab6404"
  },
  {
   "cell_type": "code",
   "execution_count": 173,
   "outputs": [
    {
     "data": {
      "text/plain": "        Image Index          Finding Labels  Atelectasis  Cardiomegaly  \\\n0  00000001_000.png            Cardiomegaly            0             0   \n1  00000001_001.png  Cardiomegaly|Emphysema            0             0   \n2  00000001_002.png   Cardiomegaly|Effusion            0             0   \n3  00000002_000.png              No Finding            0             0   \n4  00000003_000.png                  Hernia            0             0   \n\n   Effusion  Infiltration  Mass  Nodule  Pneumonia  Pneumothorax  \\\n0         0             0     0       0          0             0   \n1         0             0     0       0          0             0   \n2         0             0     0       0          0             0   \n3         0             0     0       0          0             0   \n4         0             0     0       0          0             0   \n\n   Consolidation  Edema  Emphysema  Fibrosis  Pleural_Thickening  Hernia  \n0              0      0          0         0                   0       0  \n1              0      0          0         0                   0       0  \n2              0      0          0         0                   0       0  \n3              0      0          0         0                   0       0  \n4              0      0          0         0                   0       0  ",
      "text/html": "<div>\n<style scoped>\n    .dataframe tbody tr th:only-of-type {\n        vertical-align: middle;\n    }\n\n    .dataframe tbody tr th {\n        vertical-align: top;\n    }\n\n    .dataframe thead th {\n        text-align: right;\n    }\n</style>\n<table border=\"1\" class=\"dataframe\">\n  <thead>\n    <tr style=\"text-align: right;\">\n      <th></th>\n      <th>Image Index</th>\n      <th>Finding Labels</th>\n      <th>Atelectasis</th>\n      <th>Cardiomegaly</th>\n      <th>Effusion</th>\n      <th>Infiltration</th>\n      <th>Mass</th>\n      <th>Nodule</th>\n      <th>Pneumonia</th>\n      <th>Pneumothorax</th>\n      <th>Consolidation</th>\n      <th>Edema</th>\n      <th>Emphysema</th>\n      <th>Fibrosis</th>\n      <th>Pleural_Thickening</th>\n      <th>Hernia</th>\n    </tr>\n  </thead>\n  <tbody>\n    <tr>\n      <th>0</th>\n      <td>00000001_000.png</td>\n      <td>Cardiomegaly</td>\n      <td>0</td>\n      <td>0</td>\n      <td>0</td>\n      <td>0</td>\n      <td>0</td>\n      <td>0</td>\n      <td>0</td>\n      <td>0</td>\n      <td>0</td>\n      <td>0</td>\n      <td>0</td>\n      <td>0</td>\n      <td>0</td>\n      <td>0</td>\n    </tr>\n    <tr>\n      <th>1</th>\n      <td>00000001_001.png</td>\n      <td>Cardiomegaly|Emphysema</td>\n      <td>0</td>\n      <td>0</td>\n      <td>0</td>\n      <td>0</td>\n      <td>0</td>\n      <td>0</td>\n      <td>0</td>\n      <td>0</td>\n      <td>0</td>\n      <td>0</td>\n      <td>0</td>\n      <td>0</td>\n      <td>0</td>\n      <td>0</td>\n    </tr>\n    <tr>\n      <th>2</th>\n      <td>00000001_002.png</td>\n      <td>Cardiomegaly|Effusion</td>\n      <td>0</td>\n      <td>0</td>\n      <td>0</td>\n      <td>0</td>\n      <td>0</td>\n      <td>0</td>\n      <td>0</td>\n      <td>0</td>\n      <td>0</td>\n      <td>0</td>\n      <td>0</td>\n      <td>0</td>\n      <td>0</td>\n      <td>0</td>\n    </tr>\n    <tr>\n      <th>3</th>\n      <td>00000002_000.png</td>\n      <td>No Finding</td>\n      <td>0</td>\n      <td>0</td>\n      <td>0</td>\n      <td>0</td>\n      <td>0</td>\n      <td>0</td>\n      <td>0</td>\n      <td>0</td>\n      <td>0</td>\n      <td>0</td>\n      <td>0</td>\n      <td>0</td>\n      <td>0</td>\n      <td>0</td>\n    </tr>\n    <tr>\n      <th>4</th>\n      <td>00000003_000.png</td>\n      <td>Hernia</td>\n      <td>0</td>\n      <td>0</td>\n      <td>0</td>\n      <td>0</td>\n      <td>0</td>\n      <td>0</td>\n      <td>0</td>\n      <td>0</td>\n      <td>0</td>\n      <td>0</td>\n      <td>0</td>\n      <td>0</td>\n      <td>0</td>\n      <td>0</td>\n    </tr>\n  </tbody>\n</table>\n</div>"
     },
     "execution_count": 173,
     "metadata": {},
     "output_type": "execute_result"
    }
   ],
   "source": [
    "df.head(5)"
   ],
   "metadata": {
    "collapsed": false,
    "ExecuteTime": {
     "end_time": "2024-02-07T18:13:45.782950300Z",
     "start_time": "2024-02-07T18:13:45.726494500Z"
    }
   },
   "id": "4127e0a0fd7753a0"
  },
  {
   "cell_type": "markdown",
   "source": [
    "## Assign '1' for each disease ground truth value"
   ],
   "metadata": {
    "collapsed": false
   },
   "id": "5e1b036289d00e77"
  },
  {
   "cell_type": "code",
   "execution_count": 174,
   "outputs": [],
   "source": [
    "df.loc[df[\"Finding Labels\"].str.contains(\"Atelectasis\"), \"Atelectasis\"] = 1\n",
    "df.loc[df[\"Finding Labels\"].str.contains(\"Cardiomegaly\"), \"Cardiomegaly\"] = 1\n",
    "df.loc[df[\"Finding Labels\"].str.contains(\"Effusion\"), \"Effusion\"] = 1\n",
    "df.loc[df[\"Finding Labels\"].str.contains(\"Infiltration\"), \"Infiltration\"] = 1\n",
    "df.loc[df[\"Finding Labels\"].str.contains(\"Mass\"), \"Mass\"] = 1\n",
    "df.loc[df[\"Finding Labels\"].str.contains(\"Nodule\"), \"Nodule\"] = 1\n",
    "df.loc[df[\"Finding Labels\"].str.contains(\"Pneumonia\"), \"Pneumonia\"] = 1\n",
    "df.loc[df[\"Finding Labels\"].str.contains(\"Pneumothorax\"), \"Pneumothorax\"] = 1\n",
    "df.loc[df[\"Finding Labels\"].str.contains(\"Consolidation\"), \"Consolidation\"] = 1\n",
    "df.loc[df[\"Finding Labels\"].str.contains(\"Edema\"), \"Edema\"] = 1\n",
    "df.loc[df[\"Finding Labels\"].str.contains(\"Emphysema\"), \"Emphysema\"] = 1\n",
    "df.loc[df[\"Finding Labels\"].str.contains(\"Fibrosis\"), \"Fibrosis\"] = 1\n",
    "df.loc[df[\"Finding Labels\"].str.contains(\"Pleural_Thickening\"), \"Pleural_Thickening\"] = 1\n",
    "df.loc[df[\"Finding Labels\"].str.contains(\"Hernia\"), \"Hernia\"] = 1"
   ],
   "metadata": {
    "collapsed": false,
    "ExecuteTime": {
     "end_time": "2024-02-07T18:13:46.066239Z",
     "start_time": "2024-02-07T18:13:45.735925300Z"
    }
   },
   "id": "349a7b7da3bf15e1"
  },
  {
   "cell_type": "code",
   "execution_count": 175,
   "outputs": [
    {
     "data": {
      "text/plain": "        Image Index          Finding Labels  Atelectasis  Cardiomegaly  \\\n0  00000001_000.png            Cardiomegaly            0             1   \n1  00000001_001.png  Cardiomegaly|Emphysema            0             1   \n2  00000001_002.png   Cardiomegaly|Effusion            0             1   \n3  00000002_000.png              No Finding            0             0   \n4  00000003_000.png                  Hernia            0             0   \n\n   Effusion  Infiltration  Mass  Nodule  Pneumonia  Pneumothorax  \\\n0         0             0     0       0          0             0   \n1         0             0     0       0          0             0   \n2         1             0     0       0          0             0   \n3         0             0     0       0          0             0   \n4         0             0     0       0          0             0   \n\n   Consolidation  Edema  Emphysema  Fibrosis  Pleural_Thickening  Hernia  \n0              0      0          0         0                   0       0  \n1              0      0          1         0                   0       0  \n2              0      0          0         0                   0       0  \n3              0      0          0         0                   0       0  \n4              0      0          0         0                   0       1  ",
      "text/html": "<div>\n<style scoped>\n    .dataframe tbody tr th:only-of-type {\n        vertical-align: middle;\n    }\n\n    .dataframe tbody tr th {\n        vertical-align: top;\n    }\n\n    .dataframe thead th {\n        text-align: right;\n    }\n</style>\n<table border=\"1\" class=\"dataframe\">\n  <thead>\n    <tr style=\"text-align: right;\">\n      <th></th>\n      <th>Image Index</th>\n      <th>Finding Labels</th>\n      <th>Atelectasis</th>\n      <th>Cardiomegaly</th>\n      <th>Effusion</th>\n      <th>Infiltration</th>\n      <th>Mass</th>\n      <th>Nodule</th>\n      <th>Pneumonia</th>\n      <th>Pneumothorax</th>\n      <th>Consolidation</th>\n      <th>Edema</th>\n      <th>Emphysema</th>\n      <th>Fibrosis</th>\n      <th>Pleural_Thickening</th>\n      <th>Hernia</th>\n    </tr>\n  </thead>\n  <tbody>\n    <tr>\n      <th>0</th>\n      <td>00000001_000.png</td>\n      <td>Cardiomegaly</td>\n      <td>0</td>\n      <td>1</td>\n      <td>0</td>\n      <td>0</td>\n      <td>0</td>\n      <td>0</td>\n      <td>0</td>\n      <td>0</td>\n      <td>0</td>\n      <td>0</td>\n      <td>0</td>\n      <td>0</td>\n      <td>0</td>\n      <td>0</td>\n    </tr>\n    <tr>\n      <th>1</th>\n      <td>00000001_001.png</td>\n      <td>Cardiomegaly|Emphysema</td>\n      <td>0</td>\n      <td>1</td>\n      <td>0</td>\n      <td>0</td>\n      <td>0</td>\n      <td>0</td>\n      <td>0</td>\n      <td>0</td>\n      <td>0</td>\n      <td>0</td>\n      <td>1</td>\n      <td>0</td>\n      <td>0</td>\n      <td>0</td>\n    </tr>\n    <tr>\n      <th>2</th>\n      <td>00000001_002.png</td>\n      <td>Cardiomegaly|Effusion</td>\n      <td>0</td>\n      <td>1</td>\n      <td>1</td>\n      <td>0</td>\n      <td>0</td>\n      <td>0</td>\n      <td>0</td>\n      <td>0</td>\n      <td>0</td>\n      <td>0</td>\n      <td>0</td>\n      <td>0</td>\n      <td>0</td>\n      <td>0</td>\n    </tr>\n    <tr>\n      <th>3</th>\n      <td>00000002_000.png</td>\n      <td>No Finding</td>\n      <td>0</td>\n      <td>0</td>\n      <td>0</td>\n      <td>0</td>\n      <td>0</td>\n      <td>0</td>\n      <td>0</td>\n      <td>0</td>\n      <td>0</td>\n      <td>0</td>\n      <td>0</td>\n      <td>0</td>\n      <td>0</td>\n      <td>0</td>\n    </tr>\n    <tr>\n      <th>4</th>\n      <td>00000003_000.png</td>\n      <td>Hernia</td>\n      <td>0</td>\n      <td>0</td>\n      <td>0</td>\n      <td>0</td>\n      <td>0</td>\n      <td>0</td>\n      <td>0</td>\n      <td>0</td>\n      <td>0</td>\n      <td>0</td>\n      <td>0</td>\n      <td>0</td>\n      <td>0</td>\n      <td>1</td>\n    </tr>\n  </tbody>\n</table>\n</div>"
     },
     "execution_count": 175,
     "metadata": {},
     "output_type": "execute_result"
    }
   ],
   "source": [
    "df.head(5)"
   ],
   "metadata": {
    "collapsed": false,
    "ExecuteTime": {
     "end_time": "2024-02-07T18:13:46.080304700Z",
     "start_time": "2024-02-07T18:13:46.063733400Z"
    }
   },
   "id": "47c11b49fb44f8e3"
  },
  {
   "cell_type": "markdown",
   "source": [
    "## Save new One-Hot label encodings to a new CSV file"
   ],
   "metadata": {
    "collapsed": false
   },
   "id": "57c1ee9aab4b373"
  },
  {
   "cell_type": "code",
   "execution_count": 176,
   "outputs": [],
   "source": [
    "df.to_csv(\"corrected_labels.csv\")"
   ],
   "metadata": {
    "collapsed": false,
    "ExecuteTime": {
     "end_time": "2024-02-07T18:13:46.323872500Z",
     "start_time": "2024-02-07T18:13:46.070206400Z"
    }
   },
   "id": "d4dc026bbe7cb314"
  }
 ],
 "metadata": {
  "kernelspec": {
   "display_name": "Python 3",
   "language": "python",
   "name": "python3"
  },
  "language_info": {
   "codemirror_mode": {
    "name": "ipython",
    "version": 2
   },
   "file_extension": ".py",
   "mimetype": "text/x-python",
   "name": "python",
   "nbconvert_exporter": "python",
   "pygments_lexer": "ipython2",
   "version": "2.7.6"
  }
 },
 "nbformat": 4,
 "nbformat_minor": 5
}
